{
  "nbformat": 4,
  "nbformat_minor": 0,
  "metadata": {
    "colab": {
      "provenance": [],
      "include_colab_link": true
    },
    "kernelspec": {
      "name": "python3",
      "display_name": "Python 3"
    }
  },
  "cells": [
    {
      "cell_type": "markdown",
      "metadata": {
        "id": "view-in-github",
        "colab_type": "text"
      },
      "source": [
        "<a href=\"https://colab.research.google.com/github/Aly-Mesh/data-cleaning-rmotr-freecodecamp/blob/master/1_python_types.ipynb\" target=\"_parent\"><img src=\"https://colab.research.google.com/assets/colab-badge.svg\" alt=\"Open In Colab\"/></a>"
      ]
    },
    {
      "metadata": {
        "id": "N-rLao07tfPv"
      },
      "cell_type": "markdown",
      "source": [
        "Now you will do some exercises to try out what you just learned. You will be given a track and possibly some hints and you will have to write the code yourself to obtain the desired solution."
      ]
    },
    {
      "metadata": {
        "id": "bPQpBJ-Wt0IL"
      },
      "cell_type": "markdown",
      "source": [
        "##Exercise 1 - Hello world"
      ]
    },
    {
      "metadata": {
        "id": "2v_7qZm4t0Le"
      },
      "cell_type": "markdown",
      "source": [
        "Print the string 'Hello world!'"
      ]
    },
    {
      "metadata": {
        "id": "wx5Onzzmt_wh",
        "colab": {
          "base_uri": "https://localhost:8080/"
        },
        "outputId": "fe6f96a5-60fb-4089-e74a-ca0334418aa3"
      },
      "cell_type": "code",
      "source": [
        "# TODO: Exercise 1\n",
        "print('Hello world')"
      ],
      "execution_count": null,
      "outputs": [
        {
          "output_type": "stream",
          "name": "stdout",
          "text": [
            "Hello world\n"
          ]
        }
      ]
    },
    {
      "cell_type": "code",
      "source": [],
      "metadata": {
        "id": "4frOWyahHjQp"
      },
      "execution_count": null,
      "outputs": []
    },
    {
      "metadata": {
        "id": "ChfNIThzt0RH"
      },
      "cell_type": "markdown",
      "source": [
        "## Exercise 2 - Types\n"
      ]
    },
    {
      "metadata": {
        "id": "CtIpdDUOt0Tz"
      },
      "cell_type": "markdown",
      "source": [
        "Define different variables of different types. In particular define at least:\n",
        "\n",
        "\n",
        "*  An integer\n",
        "*  A floating point value\n",
        "*  A string\n",
        "*  A boolean\n",
        "*  A NoneType\n",
        "\n",
        "Check the type of the defined variables using the function **type()**\n",
        "\n",
        "If you define everything correctly, the cell below should run without errors.\n"
      ]
    },
    {
      "metadata": {
        "id": "evTsA3Abush1"
      },
      "cell_type": "code",
      "source": [
        "int_var = 5\n",
        "float_var = 8.3\n",
        "string_var = 'Data science'\n",
        "bool_var = False\n",
        "none_var = None\n",
        "\n",
        "assert(type(int_var) == int)\n",
        "assert(type(float_var) == float)\n",
        "assert(type(string_var) == str)\n",
        "assert(type(bool_var) == bool)\n",
        "assert(none_var is None)"
      ],
      "execution_count": 1,
      "outputs": []
    },
    {
      "metadata": {
        "id": "3FVBiKqMt0XI"
      },
      "cell_type": "markdown",
      "source": [
        "## Exercise 3 - Operations"
      ]
    },
    {
      "metadata": {
        "id": "DcRTkJ8gvxSE"
      },
      "cell_type": "markdown",
      "source": [
        "Write the following equation, then assign some values to the variables and compute the result:\n",
        "$ remainder(((a+b)^c - 0.1), 10)$\n",
        "where the *remainder(x, y)* operation gives the remainder of the division between *x* and *y*."
      ]
    },
    {
      "metadata": {
        "id": "76eDgh4cGQDo",
        "colab": {
          "base_uri": "https://localhost:8080/"
        },
        "outputId": "4731c622-453c-44c1-9b70-9a09bd31b08d"
      },
      "cell_type": "code",
      "source": [
        "# Function to calculate remainder of division between x and y\n",
        "def remainder(x, y):\n",
        "    return x % y\n",
        "\n",
        "# Assign values to variables a, b, and c\n",
        "a = 5\n",
        "b = 3\n",
        "c = 2\n",
        "\n",
        "# Calculate the result using the given equation\n",
        "result = remainder(((a + b) * c - 0.1), 10)\n",
        "\n",
        "# Print the result\n",
        "print(\"Result:\", result)\n"
      ],
      "execution_count": 4,
      "outputs": [
        {
          "output_type": "stream",
          "name": "stdout",
          "text": [
            "Result: 5.9\n"
          ]
        }
      ]
    },
    {
      "metadata": {
        "id": "XQxUZGNNynoz"
      },
      "cell_type": "markdown",
      "source": [
        "##Exercise 4 - Strings"
      ]
    },
    {
      "metadata": {
        "id": "mYm08lqmytCQ"
      },
      "cell_type": "markdown",
      "source": [
        "Define two strings and concatenate them. Then print the result."
      ]
    },
    {
      "metadata": {
        "id": "kvabXdvTysLy",
        "colab": {
          "base_uri": "https://localhost:8080/"
        },
        "outputId": "b54602b2-01f8-4a70-ee86-d8b542f5587f"
      },
      "cell_type": "code",
      "source": [
        "# TODO: Exercise 4\n",
        "\n",
        "st1 = 'data science'\n",
        "st2 = ' course'\n",
        "res = st1+st2\n",
        "print(res)"
      ],
      "execution_count": 9,
      "outputs": [
        {
          "output_type": "stream",
          "name": "stdout",
          "text": [
            "data science course\n"
          ]
        }
      ]
    },
    {
      "metadata": {
        "id": "T3WbNRdfz0aY"
      },
      "cell_type": "markdown",
      "source": [
        "## Exercise 5 - Replicating strings"
      ]
    },
    {
      "metadata": {
        "id": "OUH6KD9Zz6Ad"
      },
      "cell_type": "markdown",
      "source": [
        "Print a string containing the word \"spam\" 1024 times without spaces."
      ]
    },
    {
      "metadata": {
        "id": "93DTera40Crb",
        "colab": {
          "base_uri": "https://localhost:8080/"
        },
        "outputId": "6d8b077f-e0a8-46c2-c6c2-a4ad2fde0a81"
      },
      "cell_type": "code",
      "source": [
        "# TODO: Exercise 5\n",
        "st = 'spam'\n",
        "res = st*1024\n",
        "print(res)"
      ],
      "execution_count": 11,
      "outputs": [
        {
          "output_type": "stream",
          "name": "stdout",
          "text": [
            "spamspamspamspamspamspamspamspamspamspamspamspamspamspamspamspamspamspamspamspamspamspamspamspamspamspamspamspamspamspamspamspamspamspamspamspamspamspamspamspamspamspamspamspamspamspamspamspamspamspamspamspamspamspamspamspamspamspamspamspamspamspamspamspamspamspamspamspamspamspamspamspamspamspamspamspamspamspamspamspamspamspamspamspamspamspamspamspamspamspamspamspamspamspamspamspamspamspamspamspamspamspamspamspamspamspamspamspamspamspamspamspamspamspamspamspamspamspamspamspamspamspamspamspamspamspamspamspamspamspamspamspamspamspamspamspamspamspamspamspamspamspamspamspamspamspamspamspamspamspamspamspamspamspamspamspamspamspamspamspamspamspamspamspamspamspamspamspamspamspamspamspamspamspamspamspamspamspamspamspamspamspamspamspamspamspamspamspamspamspamspamspamspamspamspamspamspamspamspamspamspamspamspamspamspamspamspamspamspamspamspamspamspamspamspamspamspamspamspamspamspamspamspamspamspamspamspamspamspamspamspamspamspamspamspamspamspamspamspamspamspamspamspamspamspamspamspamspamspamspamspamspamspamspamspamspamspamspamspamspamspamspamspamspamspamspamspamspamspamspamspamspamspamspamspamspamspamspamspamspamspamspamspamspamspamspamspamspamspamspamspamspamspamspamspamspamspamspamspamspamspamspamspamspamspamspamspamspamspamspamspamspamspamspamspamspamspamspamspamspamspamspamspamspamspamspamspamspamspamspamspamspamspamspamspamspamspamspamspamspamspamspamspamspamspamspamspamspamspamspamspamspamspamspamspamspamspamspamspamspamspamspamspamspamspamspamspamspamspamspamspamspamspamspamspamspamspamspamspamspamspamspamspamspamspamspamspamspamspamspamspamspamspamspamspamspamspamspamspamspamspamspamspamspamspamspamspamspamspamspamspamspamspamspamspamspamspamspamspamspamspamspamspamspamspamspamspamspamspamspamspamspamspamspamspamspamspamspamspamspamspamspamspamspamspamspamspamspamspamspamspamspamspamspamspamspamspamspamspamspamspamspamspamspamspamspamspamspamspamspamspamspamspamspamspamspamspamspamspamspamspamspamspamspamspamspamspamspamspamspamspamspamspamspamspamspamspamspamspamspamspamspamspamspamspamspamspamspamspamspamspamspamspamspamspamspamspamspamspamspamspamspamspamspamspamspamspamspamspamspamspamspamspamspamspamspamspamspamspamspamspamspamspamspamspamspamspamspamspamspamspamspamspamspamspamspamspamspamspamspamspamspamspamspamspamspamspamspamspamspamspamspamspamspamspamspamspamspamspamspamspamspamspamspamspamspamspamspamspamspamspamspamspamspamspamspamspamspamspamspamspamspamspamspamspamspamspamspamspamspamspamspamspamspamspamspamspamspamspamspamspamspamspamspamspamspamspamspamspamspamspamspamspamspamspamspamspamspamspamspamspamspamspamspamspamspamspamspamspamspamspamspamspamspamspamspamspamspamspamspamspamspamspamspamspamspamspamspamspamspamspamspamspamspamspamspamspamspamspamspamspamspamspamspamspamspamspamspamspamspamspamspamspamspamspamspamspamspamspamspamspamspamspamspamspamspamspamspamspamspamspamspamspamspamspamspamspamspamspamspamspamspamspamspamspamspamspamspamspamspamspamspamspamspamspamspamspamspamspamspamspamspamspamspamspamspamspamspamspamspamspamspamspamspamspamspamspamspamspamspamspamspamspamspamspamspamspamspamspamspamspamspamspamspamspamspamspamspamspamspamspamspamspamspamspamspamspamspamspamspamspamspamspamspamspamspamspamspamspamspamspamspamspamspamspamspamspamspamspamspamspamspamspamspamspamspamspamspamspamspamspamspamspamspamspamspamspamspamspamspamspamspamspamspamspamspamspamspamspamspamspamspamspamspamspamspamspamspamspamspamspamspamspamspamspamspamspamspamspamspamspamspamspamspamspamspamspamspamspamspamspamspamspamspamspamspamspamspamspamspamspamspamspamspamspamspamspamspamspamspamspamspamspamspamspamspamspamspamspamspamspamspamspamspamspamspamspamspamspamspamspamspamspamspamspamspamspamspamspamspamspamspamspamspamspamspamspamspamspamspamspamspamspamspamspamspamspamspamspamspamspamspamspamspamspamspamspamspamspamspamspamspamspamspamspamspamspamspamspamspamspamspamspamspamspamspamspamspamspamspamspamspamspamspamspamspamspamspamspamspamspamspamspamspamspamspamspamspamspamspamspamspamspamspamspamspamspamspamspamspamspamspamspamspamspamspamspamspamspamspamspamspamspamspamspamspamspamspamspamspamspamspamspamspam\n"
          ]
        }
      ]
    },
    {
      "metadata": {
        "id": "DdXPJc1x0vRo"
      },
      "cell_type": "markdown",
      "source": [
        "## Exercise 6 - Booleans"
      ]
    },
    {
      "metadata": {
        "id": "5xfOBxkm04ee"
      },
      "cell_type": "markdown",
      "source": [
        "Judge the follwing expressions :\n",
        "* not(A and B)\n",
        "* A or B\n",
        "* not(A and B)\n",
        "* A and B\n",
        "\n",
        "Try it with multiple values of A and B"
      ]
    },
    {
      "metadata": {
        "id": "gTvv-tj51uY7",
        "colab": {
          "base_uri": "https://localhost:8080/"
        },
        "outputId": "9cbb2d7d-9cb4-48cc-ba96-18267271f985"
      },
      "cell_type": "code",
      "source": [
        "# TODO: Exercise 6\n",
        "A = False\n",
        "B = True\n",
        "\n",
        "not(A and B)\n",
        "A or B\n",
        "not (A and B)\n",
        "A and B"
      ],
      "execution_count": 13,
      "outputs": [
        {
          "output_type": "execute_result",
          "data": {
            "text/plain": [
              "False"
            ]
          },
          "metadata": {},
          "execution_count": 13
        }
      ]
    },
    {
      "metadata": {
        "id": "18Qi7FsP27pZ"
      },
      "cell_type": "markdown",
      "source": [
        "## Exercise 6 - Strings"
      ]
    },
    {
      "metadata": {
        "id": "pEdEPpPe2_ui"
      },
      "cell_type": "markdown",
      "source": [
        "Define the string \"123456789abcdefg\" and print its length"
      ]
    },
    {
      "metadata": {
        "id": "86cF3szh3W63",
        "colab": {
          "base_uri": "https://localhost:8080/"
        },
        "outputId": "a5322f4a-fb99-4dc6-ff30-14d293ee4668"
      },
      "cell_type": "code",
      "source": [
        "# TODO: Exercise 6.1\n",
        "\n",
        "st = \"123456789abcdefg\"\n",
        "\n",
        "len(st)"
      ],
      "execution_count": 15,
      "outputs": [
        {
          "output_type": "execute_result",
          "data": {
            "text/plain": [
              "16"
            ]
          },
          "metadata": {},
          "execution_count": 15
        }
      ]
    },
    {
      "metadata": {
        "id": "z9igmQHL3ZU-"
      },
      "cell_type": "markdown",
      "source": [
        "Find the maximum and minimum values in the string"
      ]
    },
    {
      "metadata": {
        "id": "Pvq6bAuw3gtz",
        "colab": {
          "base_uri": "https://localhost:8080/",
          "height": 35
        },
        "outputId": "5abe0f1f-f8c8-482f-c5ad-9a777f418706"
      },
      "cell_type": "code",
      "source": [
        "# TODO: Exercise 6.2\n",
        "max(st)\n",
        "min(st)"
      ],
      "execution_count": 17,
      "outputs": [
        {
          "output_type": "execute_result",
          "data": {
            "text/plain": [
              "'1'"
            ],
            "application/vnd.google.colaboratory.intrinsic+json": {
              "type": "string"
            }
          },
          "metadata": {},
          "execution_count": 17
        }
      ]
    },
    {
      "metadata": {
        "id": "H_PBzKgX3hnl"
      },
      "cell_type": "markdown",
      "source": [
        "Print the first and the last value of the string"
      ]
    },
    {
      "metadata": {
        "id": "AK1-kHK63nQ_",
        "colab": {
          "base_uri": "https://localhost:8080/"
        },
        "outputId": "40d8aa99-be84-429b-ff34-35a8d34223fd"
      },
      "cell_type": "code",
      "source": [
        "# TODO: Exercise 6.3\n",
        "print(st[0])\n",
        "print(st[-1])\n"
      ],
      "execution_count": 19,
      "outputs": [
        {
          "output_type": "stream",
          "name": "stdout",
          "text": [
            "1\n",
            "g\n"
          ]
        }
      ]
    },
    {
      "metadata": {
        "id": "eYTyBVvQ3oQU"
      },
      "cell_type": "markdown",
      "source": [
        "Print the first 9 characters of the string"
      ]
    },
    {
      "metadata": {
        "id": "07aDlyjO3rri"
      },
      "cell_type": "code",
      "source": [
        "# TODO: Exercise 6.4"
      ],
      "execution_count": null,
      "outputs": []
    },
    {
      "metadata": {
        "id": "7_FN0Baq3zD2"
      },
      "cell_type": "markdown",
      "source": [
        "Extract the substring \"789abc\" and assign it to another variable, then print it."
      ]
    },
    {
      "metadata": {
        "id": "pLLmwjXl4Vr-"
      },
      "cell_type": "code",
      "source": [
        "# TODO: Exercise 6.5"
      ],
      "execution_count": null,
      "outputs": []
    },
    {
      "metadata": {
        "id": "2qhRc6cI4UFY"
      },
      "cell_type": "markdown",
      "source": [
        "Extract all characters in even positions within the string"
      ]
    },
    {
      "metadata": {
        "id": "FlUvgaGd4cIZ"
      },
      "cell_type": "code",
      "source": [
        "# TODO: Exercise 6.6"
      ],
      "execution_count": null,
      "outputs": []
    },
    {
      "metadata": {
        "id": "mh-bN66y4dEb"
      },
      "cell_type": "markdown",
      "source": [
        "Extract all characters in odd positions within the string"
      ]
    },
    {
      "metadata": {
        "id": "pL0FtO164gcU"
      },
      "cell_type": "code",
      "source": [
        "# TODO: Exercise 6.7"
      ],
      "execution_count": null,
      "outputs": []
    },
    {
      "metadata": {
        "id": "-stB1eZq3_-t"
      },
      "cell_type": "markdown",
      "source": [
        "Reverse the string and print it"
      ]
    },
    {
      "metadata": {
        "id": "nByv-fvb4Nzk"
      },
      "cell_type": "code",
      "source": [
        "# TODO: Exercise 6.8"
      ],
      "execution_count": null,
      "outputs": []
    },
    {
      "metadata": {
        "id": "uFrRjkAMyz-e"
      },
      "cell_type": "markdown",
      "source": [
        "##Exercise 7 - Strings and numbers"
      ]
    },
    {
      "metadata": {
        "id": "BUcdHNIWy5Fb"
      },
      "cell_type": "markdown",
      "source": [
        "Define:\n",
        "\n",
        "*  a string variable with your name\n",
        "*  an int variable with your age\n",
        "*  a float variable with your height\n",
        "*  a variable with the color of your hair\n",
        "\n",
        "print the following string using the *format()* function:\n",
        "\n",
        "\"My name is YOUR_NAME, I'm YOUR_AGE, I am YOUR_HEIGHT meters tall and I have HAIR_COLOR hair\""
      ]
    },
    {
      "metadata": {
        "id": "To_kLmNyysSa"
      },
      "cell_type": "code",
      "source": [
        "# TODO: Exercise 7"
      ],
      "execution_count": null,
      "outputs": []
    },
    {
      "metadata": {
        "id": "TBUBWtTM0OA8"
      },
      "cell_type": "markdown",
      "source": [
        "Now print the same string but this time define the overall string using only single quotes **'** instead of double quotes **\"**"
      ]
    },
    {
      "metadata": {
        "id": "GhR4paixtyyn"
      },
      "cell_type": "code",
      "source": [
        "# TODO: Exercise 7.2"
      ],
      "execution_count": null,
      "outputs": []
    },
    {
      "metadata": {
        "id": "GGpaL7sC5GXy"
      },
      "cell_type": "markdown",
      "source": [
        "## Exercise 8 - Lists\n",
        "Define a list with the elements:\n",
        "\n",
        "\n",
        "*   2\n",
        "*   4\n",
        "*   8\n",
        "*   'abc'\n",
        "*   4.5\n"
      ]
    },
    {
      "metadata": {
        "id": "90cyHXkLvIrq"
      },
      "cell_type": "code",
      "source": [
        "# TODO: Exercise 8.1"
      ],
      "execution_count": null,
      "outputs": []
    },
    {
      "metadata": {
        "id": "8Jo9iWzf5Z1p"
      },
      "cell_type": "markdown",
      "source": [
        "Print its length"
      ]
    },
    {
      "metadata": {
        "id": "2u_OAsRu5bm7"
      },
      "cell_type": "code",
      "source": [
        "# TODO: Exercise 8.2"
      ],
      "execution_count": null,
      "outputs": []
    },
    {
      "metadata": {
        "id": "zDm_rDrU7nbe"
      },
      "cell_type": "markdown",
      "source": [
        "Add the values 3, 4 and 10 to the list"
      ]
    },
    {
      "metadata": {
        "id": "8l7VXgAC7uCq"
      },
      "cell_type": "code",
      "source": [
        "# TODO: Exercise 8.3"
      ],
      "execution_count": null,
      "outputs": []
    },
    {
      "metadata": {
        "id": "9RS6xMes8ZLj"
      },
      "cell_type": "markdown",
      "source": [
        "Sort the list and print it"
      ]
    },
    {
      "metadata": {
        "id": "dJhF1B4A7nIv"
      },
      "cell_type": "code",
      "source": [
        "# TODO: Exercise 8.4"
      ],
      "execution_count": null,
      "outputs": []
    },
    {
      "metadata": {
        "id": "w26MviPY5eCJ"
      },
      "cell_type": "markdown",
      "source": [
        "## Exercise 9 - Mutability"
      ]
    },
    {
      "metadata": {
        "id": "22kA2VBi7lz9"
      },
      "cell_type": "markdown",
      "source": [
        "* Define the list list1 = [4, 12, 9, 42]\n",
        "* Define the list list2 = [90, 4.5, list1, 11]\n",
        "* Change the 9 in list1. Does this affect list2?\n",
        "* Sort list1. Does this affect list2?\n",
        "* Redefine list1 as a new list with some new values. Does this affect list2?"
      ]
    },
    {
      "metadata": {
        "id": "cs8Aeg6f5Esy"
      },
      "cell_type": "code",
      "source": [
        "# TODO: Exercise 9"
      ],
      "execution_count": null,
      "outputs": []
    },
    {
      "metadata": {
        "id": "3sedEYb59bdy"
      },
      "cell_type": "markdown",
      "source": [
        "## Exercise 10 - Immutability"
      ]
    },
    {
      "metadata": {
        "id": "xGTF3kDP9eFo"
      },
      "cell_type": "markdown",
      "source": [
        "* Define a string\n",
        "* Define a list that contains, as one of its elements, the string we just defined\n",
        "* Change the string\n",
        "* Does this affect the list?"
      ]
    },
    {
      "metadata": {
        "id": "Ch_euYx08MSq"
      },
      "cell_type": "code",
      "source": [
        "# TODO: Exercise 10"
      ],
      "execution_count": null,
      "outputs": []
    },
    {
      "metadata": {
        "id": "VcIrAvP99rnp"
      },
      "cell_type": "code",
      "source": [],
      "execution_count": null,
      "outputs": []
    }
  ]
}